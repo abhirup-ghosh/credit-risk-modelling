{
 "cells": [
  {
   "attachments": {},
   "cell_type": "markdown",
   "metadata": {},
   "source": [
    "# Credit Risk Modelling: Data Modelling"
   ]
  },
  {
   "cell_type": "code",
   "execution_count": 10,
   "metadata": {},
   "outputs": [],
   "source": [
    "import argparse\n",
    "\n",
    "import numpy as np\n",
    "import pandas as pd\n",
    "from joblib import dump\n",
    "from sklearn.model_selection import KFold\n",
    "from sklearn.pipeline import Pipeline\n",
    "from sklearn.compose import ColumnTransformer\n",
    "from sklearn.metrics import roc_auc_score\n",
    "import lightgbm\n",
    "\n",
    "from category_encoders.ordinal import OrdinalEncoder\n"
   ]
  },
  {
   "attachments": {},
   "cell_type": "markdown",
   "metadata": {},
   "source": [
    "## Loading data"
   ]
  },
  {
   "cell_type": "code",
   "execution_count": 11,
   "metadata": {},
   "outputs": [
    {
     "data": {
      "text/plain": [
       "(99976, 43)"
      ]
     },
     "execution_count": 11,
     "metadata": {},
     "output_type": "execute_result"
    }
   ],
   "source": [
    "df = pd.read_csv(\"../../data/raw/dataset.csv\", sep=\";\")\n",
    "df.shape"
   ]
  },
  {
   "attachments": {},
   "cell_type": "markdown",
   "metadata": {},
   "source": [
    "# Train/Test split"
   ]
  },
  {
   "cell_type": "code",
   "execution_count": 12,
   "metadata": {},
   "outputs": [],
   "source": [
    "df_train = df[~df.default.isnull()]\n",
    "df_test = df[df.default.isnull()]"
   ]
  },
  {
   "attachments": {},
   "cell_type": "markdown",
   "metadata": {},
   "source": [
    "# Features"
   ]
  },
  {
   "cell_type": "code",
   "execution_count": 13,
   "metadata": {},
   "outputs": [],
   "source": [
    "CATEGORICAL_FEATURES = [\n",
    "    \"merchant_category\",\n",
    "    \"merchant_group\",\n",
    "    \"name_in_email\",\n",
    "]\n",
    "NUMERICAL_FEATURES = [\n",
    "    \"account_amount_added_12_24m\",\n",
    "    \"account_days_in_dc_12_24m\",\n",
    "    \"account_days_in_rem_12_24m\",\n",
    "    \"account_days_in_term_12_24m\",\n",
    "    \"account_incoming_debt_vs_paid_0_24m\",\n",
    "    \"account_status\",\n",
    "    \"account_worst_status_0_3m\",\n",
    "    \"account_worst_status_12_24m\",\n",
    "    \"account_worst_status_3_6m\",\n",
    "    \"account_worst_status_6_12m\",\n",
    "    \"age\",\n",
    "    \"avg_payment_span_0_12m\",\n",
    "    \"avg_payment_span_0_3m\",\n",
    "    \"max_paid_inv_0_12m\",\n",
    "    \"max_paid_inv_0_24m\",\n",
    "    \"num_active_div_by_paid_inv_0_12m\",\n",
    "    \"num_active_inv\",\n",
    "    \"num_arch_dc_0_12m\",\n",
    "    \"num_arch_dc_12_24m\",\n",
    "    \"num_arch_ok_0_12m\",\n",
    "    \"num_arch_ok_12_24m\",\n",
    "    \"num_arch_rem_0_12m\",\n",
    "    \"num_unpaid_bills\",\n",
    "    \"status_last_archived_0_24m\",\n",
    "    \"status_2nd_last_archived_0_24m\",\n",
    "    \"status_3rd_last_archived_0_24m\",\n",
    "    \"status_max_archived_0_6_months\",\n",
    "    \"status_max_archived_0_12_months\",\n",
    "    \"status_max_archived_0_24_months\",\n",
    "    \"recovery_debt\",\n",
    "    \"sum_capital_paid_account_0_12m\",\n",
    "    \"sum_capital_paid_account_12_24m\",\n",
    "    \"sum_paid_inv_0_12m\",\n",
    "    \"time_hours\",\n",
    "    \"worst_status_active_inv\",\n",
    "]\n",
    "# Features which won't be used during the training\n",
    "OTHER_FEATURES = [\n",
    "    \"has_paid\",\n",
    "    \"num_arch_written_off_0_12m\",\n",
    "    \"num_arch_written_off_12_24m\",\n",
    "    \"uuid\",\n",
    "    \"default\",\n",
    "]\n",
    "MODEL_FEATURES = CATEGORICAL_FEATURES + NUMERICAL_FEATURES\n",
    "VALID_FEATURES = MODEL_FEATURES + OTHER_FEATURES\n",
    "\n",
    "# Sanity check: making sure that the same feature doesn't appear multiple times in the list\n",
    "assert len(set(VALID_FEATURES)) == len(VALID_FEATURES)\n"
   ]
  },
  {
   "attachments": {},
   "cell_type": "markdown",
   "metadata": {},
   "source": [
    "# Model"
   ]
  },
  {
   "cell_type": "code",
   "execution_count": 14,
   "metadata": {},
   "outputs": [],
   "source": [
    "model = Pipeline([\n",
    "    (\"feature_preprocessor\", ColumnTransformer([\n",
    "        # Note: Oridnal encoding works quite well for the models based on decision trees\n",
    "        (\"categorical\", OrdinalEncoder(handle_missing=\"return_nan\"), CATEGORICAL_FEATURES),\n",
    "        # Numerical features will be passed through the model without any changes\n",
    "        (\"numerical\", \"passthrough\", NUMERICAL_FEATURES)\n",
    "    ])),\n",
    "    (\"classifier\", lightgbm.LGBMClassifier(\n",
    "        n_estimators=400,\n",
    "        num_leaves=12,\n",
    "        max_depth=4,\n",
    "        learning_rate=0.02,\n",
    "        colsample_bytree=0.5,\n",
    "    )),\n",
    "])"
   ]
  },
  {
   "attachments": {},
   "cell_type": "markdown",
   "metadata": {},
   "source": [
    "# Cross validataion"
   ]
  },
  {
   "cell_type": "code",
   "execution_count": 15,
   "metadata": {},
   "outputs": [],
   "source": [
    "def run_cross_validation(df_train):\n",
    "    kfold = KFold(n_splits=10)\n",
    "\n",
    "    X = df_train\n",
    "    y = df_train.default\n",
    "\n",
    "    results = []\n",
    "\n",
    "    for index, (train_index, test_index) in enumerate(kfold.split(X), start=1):\n",
    "        X_train, X_val = X.iloc[train_index], X.iloc[test_index]\n",
    "        y_train, y_val = y[train_index], y[test_index]\n",
    "\n",
    "        model.fit(X_train, y_train)\n",
    "        probas = model.predict_proba(X_val)\n",
    "        positive_label_proba = probas[:, 1]\n",
    "\n",
    "        auc_score = roc_auc_score(y_val, positive_label_proba)\n",
    "        print(f\"[Fold #{index}] ROC AUC Score: {auc_score:.3f}\")\n",
    "        results.append(auc_score)\n",
    "\n",
    "    print(f\"ROC AUC Score: {np.mean(results):.3f} (+/-{2 * np.std(results):.3f})\")"
   ]
  },
  {
   "cell_type": "code",
   "execution_count": 16,
   "metadata": {},
   "outputs": [
    {
     "name": "stdout",
     "output_type": "stream",
     "text": [
      "[Fold #1] ROC AUC Score: 0.928\n",
      "[Fold #2] ROC AUC Score: 0.901\n",
      "[Fold #3] ROC AUC Score: 0.919\n",
      "[Fold #4] ROC AUC Score: 0.915\n",
      "[Fold #5] ROC AUC Score: 0.890\n",
      "[Fold #6] ROC AUC Score: 0.891\n",
      "[Fold #7] ROC AUC Score: 0.924\n",
      "[Fold #8] ROC AUC Score: 0.919\n",
      "[Fold #9] ROC AUC Score: 0.926\n",
      "[Fold #10] ROC AUC Score: 0.906\n",
      "ROC AUC Score: 0.912 (+/-0.027)\n"
     ]
    }
   ],
   "source": [
    "run_cross_validation(df_train)"
   ]
  },
  {
   "cell_type": "code",
   "execution_count": null,
   "metadata": {},
   "outputs": [],
   "source": []
  }
 ],
 "metadata": {
  "kernelspec": {
   "display_name": "MLEnv",
   "language": "python",
   "name": "python3"
  },
  "language_info": {
   "codemirror_mode": {
    "name": "ipython",
    "version": 3
   },
   "file_extension": ".py",
   "mimetype": "text/x-python",
   "name": "python",
   "nbconvert_exporter": "python",
   "pygments_lexer": "ipython3",
   "version": "3.10.5"
  },
  "orig_nbformat": 4
 },
 "nbformat": 4,
 "nbformat_minor": 2
}
